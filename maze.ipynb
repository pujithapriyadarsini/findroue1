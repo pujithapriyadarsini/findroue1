{
 "cells": [
  {
   "cell_type": "code",
   "execution_count": 1,
   "id": "421cc04a",
   "metadata": {},
   "outputs": [
    {
     "name": "stdout",
     "output_type": "stream",
     "text": [
      "R D D R D\n",
      "5\n"
     ]
    }
   ],
   "source": [
    "class mazesolver:\n",
    "    def __init__(self,maze):\n",
    "        self.__maze=maze\n",
    "        self.__rows=len(maze)\n",
    "        self.__columns=len(maze[0])\n",
    "        self.__visited=[[False]*len(maze[0])for _ in range(len(maze))]\n",
    "        self.__path=[]\n",
    "    def find_way(self,start_row,start_columns):\n",
    "        if self.depth_first_search(start_row,start_columns):\n",
    "            d=reversed(self.__path)\n",
    "            print(*d)\n",
    "            print(len(self.__path))\n",
    "        else:\n",
    "            print(\"no solution\")\n",
    "    def is_feasible(self,x,y):\n",
    "        if x<0 or x>self.__rows-1:\n",
    "            return False\n",
    "        if y<0 or y>self.__columns-1:\n",
    "            return False\n",
    "        if self.__maze[x][y]==\"T\":\n",
    "            return False\n",
    "        if self.__visited[x][y]:\n",
    "            return False\n",
    "        return True\n",
    "    def depth_first_search(self,x,y):\n",
    "       \n",
    "        if self.__maze[x][y]==\"E\":\n",
    "            self.__visited[x][y]=True\n",
    "            for row in self.__visited:\n",
    "                return True\n",
    "        if self.is_feasible(x,y):\n",
    "            self.__visited[x][y]=True\n",
    "            if self.depth_first_search(x+1,y):\n",
    "                self.__path.append(\"D\")\n",
    "               \n",
    "               \n",
    "                return True\n",
    "            if self.depth_first_search(x-1,y):\n",
    "                self.__path.append(\"U\")\n",
    "               \n",
    "                return True\n",
    "            if self.depth_first_search(x,y+1):\n",
    "                self.__path.append(\"R\")\n",
    "             \n",
    "                return True\n",
    "            if self.depth_first_search(x,y-1):\n",
    "                self.__path.append(\"L\")\n",
    "               \n",
    "                return True\n",
    "            self.__visited[x][y]=False\n",
    "        return False\n",
    "maze=[[\"S\",\"P\",\"P\",\"P\",\"P\"],\n",
    "      [\"T\",\"P\",\"T\",\"P\",\"P\"],\n",
    "      [\"T\",\"P\",\"P\",\"P\",\"P\"],\n",
    "      [\"P\",\"T\",\"E\",\"T\",\"T\"],\n",
    "      [\"P\",\"T\",\"P\",\"T\",\"T\"]]\n",
    "m=mazesolver(maze)\n",
    "\n",
    "m.find_way(0,0)\n"
   ]
  },
  {
   "cell_type": "code",
   "execution_count": null,
   "id": "406d1417",
   "metadata": {},
   "outputs": [],
   "source": []
  }
 ],
 "metadata": {
  "kernelspec": {
   "display_name": "Python 3",
   "language": "python",
   "name": "python3"
  },
  "language_info": {
   "codemirror_mode": {
    "name": "ipython",
    "version": 3
   },
   "file_extension": ".py",
   "mimetype": "text/x-python",
   "name": "python",
   "nbconvert_exporter": "python",
   "pygments_lexer": "ipython3",
   "version": "3.8.8"
  }
 },
 "nbformat": 4,
 "nbformat_minor": 5
}
